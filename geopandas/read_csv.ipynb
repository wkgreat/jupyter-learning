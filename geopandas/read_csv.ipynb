{
 "cells": [
  {
   "cell_type": "markdown",
   "metadata": {},
   "source": [
    "# Read CSV with wkt column"
   ]
  },
  {
   "cell_type": "code",
   "execution_count": 11,
   "metadata": {},
   "outputs": [],
   "source": [
    "import pandas as pd\n",
    "import geopandas as gpd\n",
    "from shapely import wkt"
   ]
  },
  {
   "cell_type": "code",
   "execution_count": 12,
   "metadata": {},
   "outputs": [
    {
     "data": {
      "text/html": [
       "<div>\n",
       "<style scoped>\n",
       "    .dataframe tbody tr th:only-of-type {\n",
       "        vertical-align: middle;\n",
       "    }\n",
       "\n",
       "    .dataframe tbody tr th {\n",
       "        vertical-align: top;\n",
       "    }\n",
       "\n",
       "    .dataframe thead th {\n",
       "        text-align: right;\n",
       "    }\n",
       "</style>\n",
       "<table border=\"1\" class=\"dataframe\">\n",
       "  <thead>\n",
       "    <tr style=\"text-align: right;\">\n",
       "      <th></th>\n",
       "      <th>province_name</th>\n",
       "      <th>province_adcode</th>\n",
       "      <th>geometry</th>\n",
       "      <th>area</th>\n",
       "    </tr>\n",
       "  </thead>\n",
       "  <tbody>\n",
       "    <tr>\n",
       "      <th>0</th>\n",
       "      <td>天津市</td>\n",
       "      <td>120000</td>\n",
       "      <td>MULTIPOLYGON (((117.7592142157881 39.399516825...</td>\n",
       "      <td>20214.698038</td>\n",
       "    </tr>\n",
       "    <tr>\n",
       "      <th>1</th>\n",
       "      <td>江苏省</td>\n",
       "      <td>320000</td>\n",
       "      <td>MULTIPOLYGON (((119.4865148277781 34.692627319...</td>\n",
       "      <td>147698.078457</td>\n",
       "    </tr>\n",
       "    <tr>\n",
       "      <th>2</th>\n",
       "      <td>江西省</td>\n",
       "      <td>360000</td>\n",
       "      <td>MULTIPOLYGON (((116.70084281487253 29.69967781...</td>\n",
       "      <td>213573.217260</td>\n",
       "    </tr>\n",
       "    <tr>\n",
       "      <th>3</th>\n",
       "      <td>广东省</td>\n",
       "      <td>440000</td>\n",
       "      <td>MULTIPOLYGON (((117.28309734898416 23.25578223...</td>\n",
       "      <td>216449.267429</td>\n",
       "    </tr>\n",
       "    <tr>\n",
       "      <th>4</th>\n",
       "      <td>贵州省</td>\n",
       "      <td>520000</td>\n",
       "      <td>MULTIPOLYGON (((105.07890824048424 24.91839782...</td>\n",
       "      <td>222031.968825</td>\n",
       "    </tr>\n",
       "  </tbody>\n",
       "</table>\n",
       "</div>"
      ],
      "text/plain": [
       "  province_name  province_adcode  \\\n",
       "0           天津市           120000   \n",
       "1           江苏省           320000   \n",
       "2           江西省           360000   \n",
       "3           广东省           440000   \n",
       "4           贵州省           520000   \n",
       "\n",
       "                                            geometry           area  \n",
       "0  MULTIPOLYGON (((117.7592142157881 39.399516825...   20214.698038  \n",
       "1  MULTIPOLYGON (((119.4865148277781 34.692627319...  147698.078457  \n",
       "2  MULTIPOLYGON (((116.70084281487253 29.69967781...  213573.217260  \n",
       "3  MULTIPOLYGON (((117.28309734898416 23.25578223...  216449.267429  \n",
       "4  MULTIPOLYGON (((105.07890824048424 24.91839782...  222031.968825  "
      ]
     },
     "execution_count": 12,
     "metadata": {},
     "output_type": "execute_result"
    }
   ],
   "source": [
    "df_china_provs = pd.read_csv(\"../data/china_provinces.csv\")\n",
    "df_china_provs.head()"
   ]
  },
  {
   "cell_type": "code",
   "execution_count": 13,
   "metadata": {},
   "outputs": [
    {
     "data": {
      "text/html": [
       "<div>\n",
       "<style scoped>\n",
       "    .dataframe tbody tr th:only-of-type {\n",
       "        vertical-align: middle;\n",
       "    }\n",
       "\n",
       "    .dataframe tbody tr th {\n",
       "        vertical-align: top;\n",
       "    }\n",
       "\n",
       "    .dataframe thead th {\n",
       "        text-align: right;\n",
       "    }\n",
       "</style>\n",
       "<table border=\"1\" class=\"dataframe\">\n",
       "  <thead>\n",
       "    <tr style=\"text-align: right;\">\n",
       "      <th></th>\n",
       "      <th>province_name</th>\n",
       "      <th>province_adcode</th>\n",
       "      <th>geometry</th>\n",
       "      <th>area</th>\n",
       "    </tr>\n",
       "  </thead>\n",
       "  <tbody>\n",
       "    <tr>\n",
       "      <th>0</th>\n",
       "      <td>天津市</td>\n",
       "      <td>120000</td>\n",
       "      <td>MULTIPOLYGON (((117.75921 39.39952, 117.74983 ...</td>\n",
       "      <td>20214.698038</td>\n",
       "    </tr>\n",
       "    <tr>\n",
       "      <th>1</th>\n",
       "      <td>江苏省</td>\n",
       "      <td>320000</td>\n",
       "      <td>MULTIPOLYGON (((119.48651 34.69263, 119.48626 ...</td>\n",
       "      <td>147698.078457</td>\n",
       "    </tr>\n",
       "    <tr>\n",
       "      <th>2</th>\n",
       "      <td>江西省</td>\n",
       "      <td>360000</td>\n",
       "      <td>MULTIPOLYGON (((116.70084 29.69968, 116.70073 ...</td>\n",
       "      <td>213573.217260</td>\n",
       "    </tr>\n",
       "    <tr>\n",
       "      <th>3</th>\n",
       "      <td>广东省</td>\n",
       "      <td>440000</td>\n",
       "      <td>MULTIPOLYGON (((117.28310 23.25578, 117.28201 ...</td>\n",
       "      <td>216449.267429</td>\n",
       "    </tr>\n",
       "    <tr>\n",
       "      <th>4</th>\n",
       "      <td>贵州省</td>\n",
       "      <td>520000</td>\n",
       "      <td>MULTIPOLYGON (((105.07891 24.91840, 105.07933 ...</td>\n",
       "      <td>222031.968825</td>\n",
       "    </tr>\n",
       "  </tbody>\n",
       "</table>\n",
       "</div>"
      ],
      "text/plain": [
       "  province_name  province_adcode  \\\n",
       "0           天津市           120000   \n",
       "1           江苏省           320000   \n",
       "2           江西省           360000   \n",
       "3           广东省           440000   \n",
       "4           贵州省           520000   \n",
       "\n",
       "                                            geometry           area  \n",
       "0  MULTIPOLYGON (((117.75921 39.39952, 117.74983 ...   20214.698038  \n",
       "1  MULTIPOLYGON (((119.48651 34.69263, 119.48626 ...  147698.078457  \n",
       "2  MULTIPOLYGON (((116.70084 29.69968, 116.70073 ...  213573.217260  \n",
       "3  MULTIPOLYGON (((117.28310 23.25578, 117.28201 ...  216449.267429  \n",
       "4  MULTIPOLYGON (((105.07891 24.91840, 105.07933 ...  222031.968825  "
      ]
     },
     "execution_count": 13,
     "metadata": {},
     "output_type": "execute_result"
    }
   ],
   "source": [
    "gdf_china_provs = gpd.GeoDataFrame(\n",
    "    df_china_provs, \n",
    "    geometry=wkt.loads(df_china_provs[\"geometry\"]))\n",
    "gdf_china_provs.set_crs(\"EPSG:4326\", inplace=True)\n",
    "gdf_china_provs.head()"
   ]
  },
  {
   "cell_type": "code",
   "execution_count": 14,
   "metadata": {},
   "outputs": [
    {
     "data": {
      "text/plain": [
       "<Axes: >"
      ]
     },
     "execution_count": 14,
     "metadata": {},
     "output_type": "execute_result"
    },
    {
     "data": {
      "image/png": "[encoded data removed]",
      "text/plain": [
       "<Figure size 640x480 with 1 Axes>"
      ]
     },
     "metadata": {},
     "output_type": "display_data"
    }
   ],
   "source": [
    "gdf_china_provs.plot()"
   ]
  }
 ],
 "metadata": {
  "kernelspec": {
   "display_name": "python3_11",
   "language": "python",
   "name": "python3"
  },
  "language_info": {
   "codemirror_mode": {
    "name": "ipython",
    "version": 3
   },
   "file_extension": ".py",
   "mimetype": "text/x-python",
   "name": "python",
   "nbconvert_exporter": "python",
   "pygments_lexer": "ipython3",
   "version": "3.11.5"
  }
 },
 "nbformat": 4,
 "nbformat_minor": 2
}
