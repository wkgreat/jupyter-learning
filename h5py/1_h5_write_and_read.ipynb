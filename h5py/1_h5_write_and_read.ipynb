{
 "cells": [
  {
   "cell_type": "code",
   "execution_count": 32,
   "metadata": {},
   "outputs": [],
   "source": [
    "import h5py"
   ]
  },
  {
   "cell_type": "markdown",
   "metadata": {},
   "source": [
    "# 创建新的h5文件，并写数据"
   ]
  },
  {
   "cell_type": "code",
   "execution_count": 33,
   "metadata": {},
   "outputs": [],
   "source": [
    "h5path = r\"h5file.h5\"\n",
    "\n",
    "with h5py.File(h5path,\"w\") as f:\n",
    "    \n",
    "    # 写属性\n",
    "    f.attrs[\"name\"] = \"wkgreat\"\n",
    "    f.attrs[\"age\"] = 30\n",
    "    \n",
    "    # 写数据\n",
    "    f[\"/group1/mat1\"] = [[1,2],[3,4]]\n",
    "    f[\"/group1/mat2\"] = [1,2,3,4,5]"
   ]
  },
  {
   "cell_type": "markdown",
   "metadata": {},
   "source": [
    "# 读取h5文件"
   ]
  },
  {
   "cell_type": "code",
   "execution_count": 34,
   "metadata": {},
   "outputs": [
    {
     "name": "stdout",
     "output_type": "stream",
     "text": [
      "wkgreat\n",
      "30\n",
      "[[1 2]\n",
      " [3 4]]\n",
      "[1 2 3 4 5]\n"
     ]
    }
   ],
   "source": [
    "with h5py.File(h5path,\"r\") as f:\n",
    "    \n",
    "    # 读属性\n",
    "    print(f.attrs[\"name\"])\n",
    "    print(f.attrs[\"age\"])\n",
    "    \n",
    "    # 读数据\n",
    "    print(f[\"/group1/mat1\"][...])\n",
    "    print(f[\"/group1/mat2\"][...])\n"
   ]
  }
 ],
 "metadata": {
  "kernelspec": {
   "display_name": "python3_11",
   "language": "python",
   "name": "python3"
  },
  "language_info": {
   "codemirror_mode": {
    "name": "ipython",
    "version": 3
   },
   "file_extension": ".py",
   "mimetype": "text/x-python",
   "name": "python",
   "nbconvert_exporter": "python",
   "pygments_lexer": "ipython3",
   "version": "3.11.5"
  }
 },
 "nbformat": 4,
 "nbformat_minor": 2
}
