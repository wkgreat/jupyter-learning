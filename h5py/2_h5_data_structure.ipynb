{
 "cells": [
  {
   "cell_type": "markdown",
   "metadata": {},
   "source": [
    "# 查看HDF5的文件结构"
   ]
  },
  {
   "cell_type": "code",
   "execution_count": 1,
   "metadata": {},
   "outputs": [],
   "source": [
    "import h5py"
   ]
  },
  {
   "cell_type": "code",
   "execution_count": 2,
   "metadata": {},
   "outputs": [],
   "source": [
    "filepath = \"h5file2.h5\"\n",
    "with h5py.File(filepath, \"w\") as f:\n",
    "    # attributes\n",
    "    f.attrs[\"name\"] = \"wkgreat\"\n",
    "    f.attrs[\"age\"] = 30\n",
    "    \n",
    "    # datasets\n",
    "    f[\"mat1\"] = [0,0,0,0]\n",
    "    f[\"/group1/mat1\"] = [[1,2],[3,4]]\n",
    "    f[\"/group1/mat2\"] = [1,2,3,4,5]\n",
    "    f[\"/group1/subgp1/mat1\"] = [10,11,12]\n",
    "    f[\"/group2/mat1\"] = [1,1,1,1]"
   ]
  },
  {
   "cell_type": "markdown",
   "metadata": {},
   "source": [
    "## 方法1：使用h5py"
   ]
  },
  {
   "cell_type": "code",
   "execution_count": 3,
   "metadata": {},
   "outputs": [
    {
     "name": "stdout",
     "output_type": "stream",
     "text": [
      "<KeysViewHDF5 ['age', 'name']>\n",
      "<KeysViewHDF5 ['group1', 'group2', 'mat1']>\n",
      "group1\n",
      "group1/mat1\n",
      "group1/mat2\n",
      "group1/subgp1\n",
      "group1/subgp1/mat1\n",
      "group2\n",
      "group2/mat1\n",
      "mat1\n",
      "group1 \t <HDF5 group \"/group1\" (3 members)>\n",
      "group1/mat1 \t <HDF5 dataset \"mat1\": shape (2, 2), type \"<i4\">\n",
      "group1/mat2 \t <HDF5 dataset \"mat2\": shape (5,), type \"<i4\">\n",
      "group1/subgp1 \t <HDF5 group \"/group1/subgp1\" (1 members)>\n",
      "group1/subgp1/mat1 \t <HDF5 dataset \"mat1\": shape (3,), type \"<i4\">\n",
      "group2 \t <HDF5 group \"/group2\" (1 members)>\n",
      "group2/mat1 \t <HDF5 dataset \"mat1\": shape (4,), type \"<i4\">\n",
      "mat1 \t <HDF5 dataset \"mat1\": shape (4,), type \"<i4\">\n"
     ]
    }
   ],
   "source": [
    "\n",
    "with h5py.File(filepath, \"r\") as f:\n",
    "    \n",
    "    # 打印所有属性\n",
    "    print(f.attrs.keys())\n",
    "    \n",
    "    # 打印所有key（非递归）\n",
    "    print(f.keys())\n",
    "    \n",
    "    # 递归打印所有key\n",
    "    f.visit(print)\n",
    "    \n",
    "    # 递归打印所有key的描述信息\n",
    "    f.visit(lambda k: print(k,\"\\t\",f[k]))"
   ]
  },
  {
   "cell_type": "markdown",
   "metadata": {},
   "source": [
    "## 方法2：使用nexusformat"
   ]
  },
  {
   "cell_type": "code",
   "execution_count": 4,
   "metadata": {},
   "outputs": [
    {
     "name": "stdout",
     "output_type": "stream",
     "text": [
      "root:NXroot\n",
      "  @age = 30\n",
      "  @name = 'wkgreat'\n",
      "  group1:NXgroup\n",
      "    mat1 = int32(2x2)\n",
      "    mat2 = int32(5)\n",
      "    subgp1:NXgroup\n",
      "      mat1 = [10 11 12]\n",
      "  group2:NXgroup\n",
      "    mat1 = int32(4)\n",
      "  mat1 = int32(4)\n"
     ]
    }
   ],
   "source": [
    "from nexusformat.nexus import nxload\n",
    "f = nxload(filepath)\n",
    "print(f.tree)\n",
    "f.close()"
   ]
  }
 ],
 "metadata": {
  "kernelspec": {
   "display_name": "python3_11",
   "language": "python",
   "name": "python3"
  },
  "language_info": {
   "codemirror_mode": {
    "name": "ipython",
    "version": 3
   },
   "file_extension": ".py",
   "mimetype": "text/x-python",
   "name": "python",
   "nbconvert_exporter": "python",
   "pygments_lexer": "ipython3",
   "version": "3.11.5"
  }
 },
 "nbformat": 4,
 "nbformat_minor": 2
}
